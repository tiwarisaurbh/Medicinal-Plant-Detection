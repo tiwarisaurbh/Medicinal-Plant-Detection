{
 "cells": [
  {
   "cell_type": "code",
   "execution_count": 2,
   "id": "8bb43424",
   "metadata": {
    "papermill": {
     "duration": 8.602421,
     "end_time": "2023-10-15T06:02:43.696726",
     "exception": false,
     "start_time": "2023-10-15T06:02:35.094305",
     "status": "completed"
    },
    "tags": []
   },
   "outputs": [],
   "source": [
    "import tensorflow as tf"
   ]
  },
  {
   "cell_type": "markdown",
   "id": "0fac1e19",
   "metadata": {
    "papermill": {
     "duration": 0.003532,
     "end_time": "2023-10-15T06:02:43.704233",
     "exception": false,
     "start_time": "2023-10-15T06:02:43.700701",
     "status": "completed"
    },
    "tags": []
   },
   "source": [
    "## Convert Images in directory into Dataset\n",
    "we can use `tf.keras.preprocessing.image_dataset_from_directory` to convert the data into dataset so we can train the models out of the box"
   ]
  },
  {
   "cell_type": "code",
   "execution_count": 2,
   "id": "2f1c2e28",
   "metadata": {
    "execution": {
     "iopub.execute_input": "2023-10-15T06:02:43.712511Z",
     "iopub.status.busy": "2023-10-15T06:02:43.711983Z",
     "iopub.status.idle": "2023-10-15T06:02:49.969788Z",
     "shell.execute_reply": "2023-10-15T06:02:49.968935Z"
    },
    "papermill": {
     "duration": 6.263929,
     "end_time": "2023-10-15T06:02:49.971581",
     "exception": false,
     "start_time": "2023-10-15T06:02:43.707652",
     "status": "completed"
    },
    "tags": []
   },
   "outputs": [
    {
     "name": "stdout",
     "output_type": "stream",
     "text": [
      "Found 6900 files belonging to 80 classes.\n"
     ]
    },
    {
     "data": {
      "text/plain": [
       "['Aloevera',\n",
       " 'Amla',\n",
       " 'Amruthaballi',\n",
       " 'Arali',\n",
       " 'Astma_weed',\n",
       " 'Badipala',\n",
       " 'Balloon_Vine',\n",
       " 'Bamboo',\n",
       " 'Beans',\n",
       " 'Betel',\n",
       " 'Bhrami',\n",
       " 'Bringaraja',\n",
       " 'Caricature',\n",
       " 'Castor',\n",
       " 'Catharanthus',\n",
       " 'Chakte',\n",
       " 'Chilly',\n",
       " 'Citron lime (herelikai)',\n",
       " 'Coffee',\n",
       " 'Common rue(naagdalli)',\n",
       " 'Coriender',\n",
       " 'Curry',\n",
       " 'Doddpathre',\n",
       " 'Drumstick',\n",
       " 'Ekka',\n",
       " 'Eucalyptus',\n",
       " 'Ganigale',\n",
       " 'Ganike',\n",
       " 'Gasagase',\n",
       " 'Ginger',\n",
       " 'Globe Amarnath',\n",
       " 'Guava',\n",
       " 'Henna',\n",
       " 'Hibiscus',\n",
       " 'Honge',\n",
       " 'Insulin',\n",
       " 'Jackfruit',\n",
       " 'Jasmine',\n",
       " 'Kambajala',\n",
       " 'Kasambruga',\n",
       " 'Kohlrabi',\n",
       " 'Lantana',\n",
       " 'Lemon',\n",
       " 'Lemongrass',\n",
       " 'Malabar_Nut',\n",
       " 'Malabar_Spinach',\n",
       " 'Mango',\n",
       " 'Marigold',\n",
       " 'Mint',\n",
       " 'Neem',\n",
       " 'Nelavembu',\n",
       " 'Nerale',\n",
       " 'Nooni',\n",
       " 'Onion',\n",
       " 'Padri',\n",
       " 'Palak(Spinach)',\n",
       " 'Papaya',\n",
       " 'Parijatha',\n",
       " 'Pea',\n",
       " 'Pepper',\n",
       " 'Pomoegranate',\n",
       " 'Pumpkin',\n",
       " 'Raddish',\n",
       " 'Rose',\n",
       " 'Sampige',\n",
       " 'Sapota',\n",
       " 'Seethaashoka',\n",
       " 'Seethapala',\n",
       " 'Spinach1',\n",
       " 'Tamarind',\n",
       " 'Taro',\n",
       " 'Tecoma',\n",
       " 'Thumbe',\n",
       " 'Tomato',\n",
       " 'Tulsi',\n",
       " 'Turmeric',\n",
       " 'ashoka',\n",
       " 'camphor',\n",
       " 'kamakasturi',\n",
       " 'kepala']"
      ]
     },
     "execution_count": 2,
     "metadata": {},
     "output_type": "execute_result"
    }
   ],
   "source": [
    "dataset = tf.keras.preprocessing.image_dataset_from_directory(\n",
    "    \"/kaggle/input/indian-medicinal-leaves-dataset/Indian Medicinal Leaves Image Datasets/Medicinal Leaf dataset\",\n",
    "    shuffle=True,\n",
    "    batch_size=32,\n",
    "    image_size=(299, 299),\n",
    ")\n",
    "\n",
    "labels = dataset.class_names\n",
    "labels"
   ]
  },
  {
   "cell_type": "code",
   "execution_count": 3,
   "id": "c58d6083",
   "metadata": {
    "execution": {
     "iopub.execute_input": "2023-10-15T06:02:49.980118Z",
     "iopub.status.busy": "2023-10-15T06:02:49.979855Z",
     "iopub.status.idle": "2023-10-15T06:02:59.628445Z",
     "shell.execute_reply": "2023-10-15T06:02:59.627467Z"
    },
    "papermill": {
     "duration": 9.654931,
     "end_time": "2023-10-15T06:02:59.630356",
     "exception": false,
     "start_time": "2023-10-15T06:02:49.975425",
     "status": "completed"
    },
    "tags": []
   },
   "outputs": [
    {
     "name": "stdout",
     "output_type": "stream",
     "text": [
      "(32, 299, 299, 3)\n",
      "[65 37 78 55 17  5 71 54 36 48 74 57 43 42 20 51 35 39  0 70 16 45 42 57\n",
      " 10 19 14 22  0 30 69 69]\n"
     ]
    }
   ],
   "source": [
    "import numpy as np\n",
    "\n",
    "for image_batch, labels_batch in dataset.take(1):\n",
    "    print(image_batch.shape)\n",
    "    print(labels_batch.numpy())\n",
    "    break"
   ]
  },
  {
   "cell_type": "code",
   "execution_count": 4,
   "id": "c6c9591d",
   "metadata": {
    "execution": {
     "iopub.execute_input": "2023-10-15T06:02:59.639395Z",
     "iopub.status.busy": "2023-10-15T06:02:59.639099Z",
     "iopub.status.idle": "2023-10-15T06:02:59.646415Z",
     "shell.execute_reply": "2023-10-15T06:02:59.645513Z"
    },
    "papermill": {
     "duration": 0.013748,
     "end_time": "2023-10-15T06:02:59.648063",
     "exception": false,
     "start_time": "2023-10-15T06:02:59.634315",
     "status": "completed"
    },
    "tags": []
   },
   "outputs": [
    {
     "data": {
      "text/plain": [
       "(172, 43)"
      ]
     },
     "execution_count": 4,
     "metadata": {},
     "output_type": "execute_result"
    }
   ],
   "source": [
    "# train test split\n",
    "train_size = int(0.8 * len(dataset))\n",
    "test_size = int(0.2 * len(dataset))\n",
    "train_size, test_size"
   ]
  },
  {
   "cell_type": "markdown",
   "id": "c4e01e46",
   "metadata": {
    "papermill": {
     "duration": 0.003455,
     "end_time": "2023-10-15T06:02:59.655114",
     "exception": false,
     "start_time": "2023-10-15T06:02:59.651659",
     "status": "completed"
    },
    "tags": []
   },
   "source": [
    "## Train, Test, Validate\n",
    "partition the data into train test and validation datasets"
   ]
  },
  {
   "cell_type": "code",
   "execution_count": 5,
   "id": "e6400b55",
   "metadata": {
    "execution": {
     "iopub.execute_input": "2023-10-15T06:02:59.663609Z",
     "iopub.status.busy": "2023-10-15T06:02:59.663259Z",
     "iopub.status.idle": "2023-10-15T06:02:59.668599Z",
     "shell.execute_reply": "2023-10-15T06:02:59.667642Z"
    },
    "papermill": {
     "duration": 0.01145,
     "end_time": "2023-10-15T06:02:59.670267",
     "exception": false,
     "start_time": "2023-10-15T06:02:59.658817",
     "status": "completed"
    },
    "tags": []
   },
   "outputs": [],
   "source": [
    "def get_dataset_partisions_tf(ds, train_split=0.8, test_split=0.2, shuffle=True, shuffle_size=10000):\n",
    "    if shuffle:\n",
    "        ds = ds.shuffle(shuffle_size, seed=12)\n",
    "    train_size = int(train_split * len(ds))\n",
    "    test_size = int(test_split * len(ds))\n",
    "    train_ds = ds.take(train_size)\n",
    "    test_ds = ds.skip(train_size)\n",
    "    val_ds = test_ds.skip(test_size)\n",
    "    test_ds = test_ds.take(test_size)\n",
    "    return train_ds, test_ds, val_ds"
   ]
  },
  {
   "cell_type": "code",
   "execution_count": 6,
   "id": "7f2180ce",
   "metadata": {
    "execution": {
     "iopub.execute_input": "2023-10-15T06:02:59.678804Z",
     "iopub.status.busy": "2023-10-15T06:02:59.678287Z",
     "iopub.status.idle": "2023-10-15T06:02:59.691549Z",
     "shell.execute_reply": "2023-10-15T06:02:59.690674Z"
    },
    "papermill": {
     "duration": 0.019326,
     "end_time": "2023-10-15T06:02:59.693164",
     "exception": false,
     "start_time": "2023-10-15T06:02:59.673838",
     "status": "completed"
    },
    "tags": []
   },
   "outputs": [
    {
     "data": {
      "text/plain": [
       "(172, 43, 1)"
      ]
     },
     "execution_count": 6,
     "metadata": {},
     "output_type": "execute_result"
    }
   ],
   "source": [
    "train_ds, test_ds, val_ds = get_dataset_partisions_tf(dataset)\n",
    "len(train_ds), len(test_ds), len(val_ds)"
   ]
  },
  {
   "cell_type": "markdown",
   "id": "0b288986",
   "metadata": {
    "papermill": {
     "duration": 0.003567,
     "end_time": "2023-10-15T06:02:59.700454",
     "exception": false,
     "start_time": "2023-10-15T06:02:59.696887",
     "status": "completed"
    },
    "tags": []
   },
   "source": [
    "## Resize and Normalize\n",
    "- Xception models takes the image input as 299x299 pixels so converting into the trainable format is necessary\n",
    "- The Images are to be normalized before to train accurately and efficiently"
   ]
  },
  {
   "cell_type": "code",
   "execution_count": 7,
   "id": "ba43285a",
   "metadata": {
    "execution": {
     "iopub.execute_input": "2023-10-15T06:02:59.708839Z",
     "iopub.status.busy": "2023-10-15T06:02:59.708604Z",
     "iopub.status.idle": "2023-10-15T06:02:59.725301Z",
     "shell.execute_reply": "2023-10-15T06:02:59.724477Z"
    },
    "papermill": {
     "duration": 0.022835,
     "end_time": "2023-10-15T06:02:59.726993",
     "exception": false,
     "start_time": "2023-10-15T06:02:59.704158",
     "status": "completed"
    },
    "tags": []
   },
   "outputs": [],
   "source": [
    "resize_and_rescale = tf.keras.Sequential([\n",
    "    tf.keras.layers.experimental.preprocessing.Resizing(299, 299),\n",
    "    tf.keras.layers.experimental.preprocessing.Rescaling(1./255)\n",
    "])"
   ]
  },
  {
   "cell_type": "markdown",
   "id": "c948c384",
   "metadata": {
    "papermill": {
     "duration": 0.003615,
     "end_time": "2023-10-15T06:02:59.734318",
     "exception": false,
     "start_time": "2023-10-15T06:02:59.730703",
     "status": "completed"
    },
    "tags": []
   },
   "source": [
    "### Download the Xception model predefined weights from tensorflow into your working environment"
   ]
  },
  {
   "cell_type": "code",
   "execution_count": 8,
   "id": "1ddec265",
   "metadata": {
    "execution": {
     "iopub.execute_input": "2023-10-15T06:02:59.742897Z",
     "iopub.status.busy": "2023-10-15T06:02:59.742342Z",
     "iopub.status.idle": "2023-10-15T06:03:02.447689Z",
     "shell.execute_reply": "2023-10-15T06:03:02.446725Z"
    },
    "papermill": {
     "duration": 2.711877,
     "end_time": "2023-10-15T06:03:02.449831",
     "exception": false,
     "start_time": "2023-10-15T06:02:59.737954",
     "status": "completed"
    },
    "tags": []
   },
   "outputs": [
    {
     "name": "stdout",
     "output_type": "stream",
     "text": [
      "Downloading data from https://storage.googleapis.com/tensorflow/keras-applications/inception_v3/inception_v3_weights_tf_dim_ordering_tf_kernels_notop.h5\n",
      "87910968/87910968 [==============================] - 0s 0us/step\n"
     ]
    }
   ],
   "source": [
    "# train using Xception\n",
    "base_model = tf.keras.applications.InceptionV3(\n",
    "    weights='imagenet',\n",
    "    input_shape=(299, 299, 3),\n",
    "    include_top=False,\n",
    "    pooling='avg',\n",
    "    classifier_activation='softmax',\n",
    "    classes=len(labels)\n",
    ")"
   ]
  },
  {
   "cell_type": "code",
   "execution_count": 9,
   "id": "83671e45",
   "metadata": {
    "execution": {
     "iopub.execute_input": "2023-10-15T06:03:02.460192Z",
     "iopub.status.busy": "2023-10-15T06:03:02.459890Z",
     "iopub.status.idle": "2023-10-15T08:39:13.462247Z",
     "shell.execute_reply": "2023-10-15T08:39:13.460904Z"
    },
    "papermill": {
     "duration": 9371.009976,
     "end_time": "2023-10-15T08:39:13.464623",
     "exception": false,
     "start_time": "2023-10-15T06:03:02.454647",
     "status": "completed"
    },
    "tags": []
   },
   "outputs": [
    {
     "name": "stdout",
     "output_type": "stream",
     "text": [
      "Model: \"model\"\n",
      "_________________________________________________________________\n",
      " Layer (type)                Output Shape              Param #   \n",
      "=================================================================\n",
      " input_2 (InputLayer)        [(None, 299, 299, 3)]     0         \n",
      "                                                                 \n",
      " sequential (Sequential)     (None, 299, 299, 3)       0         \n",
      "                                                                 \n",
      " inception_v3 (Functional)   (None, 2048)              21802784  \n",
      "                                                                 \n",
      " dense (Dense)               (None, 128)               262272    \n",
      "                                                                 \n",
      " dropout (Dropout)           (None, 128)               0         \n",
      "                                                                 \n",
      " dense_1 (Dense)             (None, 80)                10320     \n",
      "                                                                 \n",
      "=================================================================\n",
      "Total params: 22,075,376\n",
      "Trainable params: 272,592\n",
      "Non-trainable params: 21,802,784\n",
      "_________________________________________________________________\n",
      "Epoch 1/20\n"
     ]
    },
    {
     "name": "stderr",
     "output_type": "stream",
     "text": [
      "Corrupt JPEG data: 445 extraneous bytes before marker 0xd9\n",
      "Corrupt JPEG data: premature end of data segment\n",
      "Corrupt JPEG data: premature end of data segment\n"
     ]
    },
    {
     "name": "stdout",
     "output_type": "stream",
     "text": [
      "172/172 [==============================] - ETA: 0s - loss: 3.6631 - accuracy: 0.1641"
     ]
    },
    {
     "name": "stderr",
     "output_type": "stream",
     "text": [
      "Corrupt JPEG data: 445 extraneous bytes before marker 0xd9\n",
      "Corrupt JPEG data: premature end of data segment\n",
      "Corrupt JPEG data: premature end of data segment\n"
     ]
    },
    {
     "name": "stdout",
     "output_type": "stream",
     "text": [
      "172/172 [==============================] - 485s 1s/step - loss: 3.6631 - accuracy: 0.1641 - val_loss: 2.7414 - val_accuracy: 0.3750\n",
      "Epoch 2/20\n"
     ]
    },
    {
     "name": "stderr",
     "output_type": "stream",
     "text": [
      "Corrupt JPEG data: 445 extraneous bytes before marker 0xd9\n",
      "Corrupt JPEG data: premature end of data segment\n",
      "Corrupt JPEG data: premature end of data segment\n"
     ]
    },
    {
     "name": "stdout",
     "output_type": "stream",
     "text": [
      "172/172 [==============================] - ETA: 0s - loss: 2.3995 - accuracy: 0.4004"
     ]
    },
    {
     "name": "stderr",
     "output_type": "stream",
     "text": [
      "Corrupt JPEG data: 445 extraneous bytes before marker 0xd9\n",
      "Corrupt JPEG data: premature end of data segment\n",
      "Corrupt JPEG data: premature end of data segment\n"
     ]
    },
    {
     "name": "stdout",
     "output_type": "stream",
     "text": [
      "172/172 [==============================] - 466s 1s/step - loss: 2.3995 - accuracy: 0.4004 - val_loss: 1.7994 - val_accuracy: 0.6562\n",
      "Epoch 3/20\n"
     ]
    },
    {
     "name": "stderr",
     "output_type": "stream",
     "text": [
      "Corrupt JPEG data: 445 extraneous bytes before marker 0xd9\n",
      "Corrupt JPEG data: premature end of data segment\n",
      "Corrupt JPEG data: premature end of data segment\n"
     ]
    },
    {
     "name": "stdout",
     "output_type": "stream",
     "text": [
      "172/172 [==============================] - ETA: 0s - loss: 1.7634 - accuracy: 0.5410"
     ]
    },
    {
     "name": "stderr",
     "output_type": "stream",
     "text": [
      "Corrupt JPEG data: 445 extraneous bytes before marker 0xd9\n",
      "Corrupt JPEG data: premature end of data segment\n",
      "Corrupt JPEG data: premature end of data segment\n"
     ]
    },
    {
     "name": "stdout",
     "output_type": "stream",
     "text": [
      "172/172 [==============================] - 467s 1s/step - loss: 1.7634 - accuracy: 0.5410 - val_loss: 1.3904 - val_accuracy: 0.6250\n",
      "Epoch 4/20\n"
     ]
    },
    {
     "name": "stderr",
     "output_type": "stream",
     "text": [
      "Corrupt JPEG data: 445 extraneous bytes before marker 0xd9\n",
      "Corrupt JPEG data: premature end of data segment\n",
      "Corrupt JPEG data: premature end of data segment\n"
     ]
    },
    {
     "name": "stdout",
     "output_type": "stream",
     "text": [
      "172/172 [==============================] - ETA: 0s - loss: 1.4188 - accuracy: 0.6187"
     ]
    },
    {
     "name": "stderr",
     "output_type": "stream",
     "text": [
      "Corrupt JPEG data: 445 extraneous bytes before marker 0xd9\n",
      "Corrupt JPEG data: premature end of data segment\n",
      "Corrupt JPEG data: premature end of data segment\n"
     ]
    },
    {
     "name": "stdout",
     "output_type": "stream",
     "text": [
      "172/172 [==============================] - 470s 1s/step - loss: 1.4188 - accuracy: 0.6187 - val_loss: 0.9364 - val_accuracy: 0.8438\n",
      "Epoch 5/20\n"
     ]
    },
    {
     "name": "stderr",
     "output_type": "stream",
     "text": [
      "Corrupt JPEG data: 445 extraneous bytes before marker 0xd9\n",
      "Corrupt JPEG data: premature end of data segment\n",
      "Corrupt JPEG data: premature end of data segment\n"
     ]
    },
    {
     "name": "stdout",
     "output_type": "stream",
     "text": [
      "172/172 [==============================] - ETA: 0s - loss: 1.2040 - accuracy: 0.6666"
     ]
    },
    {
     "name": "stderr",
     "output_type": "stream",
     "text": [
      "Corrupt JPEG data: 445 extraneous bytes before marker 0xd9\n",
      "Corrupt JPEG data: premature end of data segment\n",
      "Corrupt JPEG data: premature end of data segment\n"
     ]
    },
    {
     "name": "stdout",
     "output_type": "stream",
     "text": [
      "172/172 [==============================] - 469s 1s/step - loss: 1.2040 - accuracy: 0.6666 - val_loss: 0.8163 - val_accuracy: 0.8438\n",
      "Epoch 6/20\n"
     ]
    },
    {
     "name": "stderr",
     "output_type": "stream",
     "text": [
      "Corrupt JPEG data: 445 extraneous bytes before marker 0xd9\n",
      "Corrupt JPEG data: premature end of data segment\n",
      "Corrupt JPEG data: premature end of data segment\n"
     ]
    },
    {
     "name": "stdout",
     "output_type": "stream",
     "text": [
      "172/172 [==============================] - ETA: 0s - loss: 1.0222 - accuracy: 0.7201"
     ]
    },
    {
     "name": "stderr",
     "output_type": "stream",
     "text": [
      "Corrupt JPEG data: 445 extraneous bytes before marker 0xd9\n",
      "Corrupt JPEG data: premature end of data segment\n",
      "Corrupt JPEG data: premature end of data segment\n"
     ]
    },
    {
     "name": "stdout",
     "output_type": "stream",
     "text": [
      "172/172 [==============================] - 465s 1s/step - loss: 1.0222 - accuracy: 0.7201 - val_loss: 0.5364 - val_accuracy: 0.9375\n",
      "Epoch 7/20\n"
     ]
    },
    {
     "name": "stderr",
     "output_type": "stream",
     "text": [
      "Corrupt JPEG data: 445 extraneous bytes before marker 0xd9\n",
      "Corrupt JPEG data: premature end of data segment\n",
      "Corrupt JPEG data: premature end of data segment\n"
     ]
    },
    {
     "name": "stdout",
     "output_type": "stream",
     "text": [
      "172/172 [==============================] - ETA: 0s - loss: 0.9022 - accuracy: 0.7509"
     ]
    },
    {
     "name": "stderr",
     "output_type": "stream",
     "text": [
      "Corrupt JPEG data: 445 extraneous bytes before marker 0xd9\n",
      "Corrupt JPEG data: premature end of data segment\n",
      "Corrupt JPEG data: premature end of data segment\n"
     ]
    },
    {
     "name": "stdout",
     "output_type": "stream",
     "text": [
      "172/172 [==============================] - 502s 2s/step - loss: 0.9022 - accuracy: 0.7509 - val_loss: 0.6315 - val_accuracy: 0.8750\n",
      "Epoch 8/20\n"
     ]
    },
    {
     "name": "stderr",
     "output_type": "stream",
     "text": [
      "Corrupt JPEG data: 445 extraneous bytes before marker 0xd9\n",
      "Corrupt JPEG data: premature end of data segment\n",
      "Corrupt JPEG data: premature end of data segment\n"
     ]
    },
    {
     "name": "stdout",
     "output_type": "stream",
     "text": [
      "172/172 [==============================] - ETA: 0s - loss: 0.8418 - accuracy: 0.7673"
     ]
    },
    {
     "name": "stderr",
     "output_type": "stream",
     "text": [
      "Corrupt JPEG data: 445 extraneous bytes before marker 0xd9\n",
      "Corrupt JPEG data: premature end of data segment\n",
      "Corrupt JPEG data: premature end of data segment\n"
     ]
    },
    {
     "name": "stdout",
     "output_type": "stream",
     "text": [
      "172/172 [==============================] - 470s 1s/step - loss: 0.8418 - accuracy: 0.7673 - val_loss: 0.4346 - val_accuracy: 0.8750\n",
      "Epoch 9/20\n"
     ]
    },
    {
     "name": "stderr",
     "output_type": "stream",
     "text": [
      "Corrupt JPEG data: 445 extraneous bytes before marker 0xd9\n",
      "Corrupt JPEG data: premature end of data segment\n",
      "Corrupt JPEG data: premature end of data segment\n"
     ]
    },
    {
     "name": "stdout",
     "output_type": "stream",
     "text": [
      "172/172 [==============================] - ETA: 0s - loss: 0.7431 - accuracy: 0.7887"
     ]
    },
    {
     "name": "stderr",
     "output_type": "stream",
     "text": [
      "Corrupt JPEG data: 445 extraneous bytes before marker 0xd9\n",
      "Corrupt JPEG data: premature end of data segment\n",
      "Corrupt JPEG data: premature end of data segment\n"
     ]
    },
    {
     "name": "stdout",
     "output_type": "stream",
     "text": [
      "172/172 [==============================] - 460s 1s/step - loss: 0.7431 - accuracy: 0.7887 - val_loss: 0.3674 - val_accuracy: 0.8750\n",
      "Epoch 10/20\n"
     ]
    },
    {
     "name": "stderr",
     "output_type": "stream",
     "text": [
      "Corrupt JPEG data: 445 extraneous bytes before marker 0xd9\n",
      "Corrupt JPEG data: premature end of data segment\n",
      "Corrupt JPEG data: premature end of data segment\n"
     ]
    },
    {
     "name": "stdout",
     "output_type": "stream",
     "text": [
      "172/172 [==============================] - ETA: 0s - loss: 0.6800 - accuracy: 0.8097"
     ]
    },
    {
     "name": "stderr",
     "output_type": "stream",
     "text": [
      "Corrupt JPEG data: 445 extraneous bytes before marker 0xd9\n",
      "Corrupt JPEG data: premature end of data segment\n",
      "Corrupt JPEG data: premature end of data segment\n"
     ]
    },
    {
     "name": "stdout",
     "output_type": "stream",
     "text": [
      "172/172 [==============================] - 468s 1s/step - loss: 0.6800 - accuracy: 0.8097 - val_loss: 0.4037 - val_accuracy: 0.9375\n",
      "Epoch 11/20\n"
     ]
    },
    {
     "name": "stderr",
     "output_type": "stream",
     "text": [
      "Corrupt JPEG data: 445 extraneous bytes before marker 0xd9\n",
      "Corrupt JPEG data: premature end of data segment\n",
      "Corrupt JPEG data: premature end of data segment\n"
     ]
    },
    {
     "name": "stdout",
     "output_type": "stream",
     "text": [
      "172/172 [==============================] - ETA: 0s - loss: 0.6079 - accuracy: 0.8268"
     ]
    },
    {
     "name": "stderr",
     "output_type": "stream",
     "text": [
      "Corrupt JPEG data: 445 extraneous bytes before marker 0xd9\n",
      "Corrupt JPEG data: premature end of data segment\n",
      "Corrupt JPEG data: premature end of data segment\n"
     ]
    },
    {
     "name": "stdout",
     "output_type": "stream",
     "text": [
      "172/172 [==============================] - 467s 1s/step - loss: 0.6079 - accuracy: 0.8268 - val_loss: 0.3292 - val_accuracy: 0.9062\n",
      "Epoch 12/20\n"
     ]
    },
    {
     "name": "stderr",
     "output_type": "stream",
     "text": [
      "Corrupt JPEG data: 445 extraneous bytes before marker 0xd9\n",
      "Corrupt JPEG data: premature end of data segment\n",
      "Corrupt JPEG data: premature end of data segment\n"
     ]
    },
    {
     "name": "stdout",
     "output_type": "stream",
     "text": [
      "172/172 [==============================] - ETA: 0s - loss: 0.5747 - accuracy: 0.8381"
     ]
    },
    {
     "name": "stderr",
     "output_type": "stream",
     "text": [
      "Corrupt JPEG data: 445 extraneous bytes before marker 0xd9\n",
      "Corrupt JPEG data: premature end of data segment\n",
      "Corrupt JPEG data: premature end of data segment\n"
     ]
    },
    {
     "name": "stdout",
     "output_type": "stream",
     "text": [
      "172/172 [==============================] - 465s 1s/step - loss: 0.5747 - accuracy: 0.8381 - val_loss: 0.2994 - val_accuracy: 0.9375\n",
      "Epoch 13/20\n"
     ]
    },
    {
     "name": "stderr",
     "output_type": "stream",
     "text": [
      "Corrupt JPEG data: 445 extraneous bytes before marker 0xd9\n",
      "Corrupt JPEG data: premature end of data segment\n",
      "Corrupt JPEG data: premature end of data segment\n"
     ]
    },
    {
     "name": "stdout",
     "output_type": "stream",
     "text": [
      "172/172 [==============================] - ETA: 0s - loss: 0.5228 - accuracy: 0.8507"
     ]
    },
    {
     "name": "stderr",
     "output_type": "stream",
     "text": [
      "Corrupt JPEG data: 445 extraneous bytes before marker 0xd9\n",
      "Corrupt JPEG data: premature end of data segment\n",
      "Corrupt JPEG data: premature end of data segment\n"
     ]
    },
    {
     "name": "stdout",
     "output_type": "stream",
     "text": [
      "172/172 [==============================] - 459s 1s/step - loss: 0.5228 - accuracy: 0.8507 - val_loss: 0.1432 - val_accuracy: 0.9688\n",
      "Epoch 14/20\n"
     ]
    },
    {
     "name": "stderr",
     "output_type": "stream",
     "text": [
      "Corrupt JPEG data: 445 extraneous bytes before marker 0xd9\n",
      "Corrupt JPEG data: premature end of data segment\n",
      "Corrupt JPEG data: premature end of data segment\n"
     ]
    },
    {
     "name": "stdout",
     "output_type": "stream",
     "text": [
      "172/172 [==============================] - ETA: 0s - loss: 0.5086 - accuracy: 0.8509"
     ]
    },
    {
     "name": "stderr",
     "output_type": "stream",
     "text": [
      "Corrupt JPEG data: 445 extraneous bytes before marker 0xd9\n",
      "Corrupt JPEG data: premature end of data segment\n",
      "Corrupt JPEG data: premature end of data segment\n"
     ]
    },
    {
     "name": "stdout",
     "output_type": "stream",
     "text": [
      "172/172 [==============================] - 466s 1s/step - loss: 0.5086 - accuracy: 0.8509 - val_loss: 0.2949 - val_accuracy: 0.8750\n",
      "Epoch 15/20\n"
     ]
    },
    {
     "name": "stderr",
     "output_type": "stream",
     "text": [
      "Corrupt JPEG data: 445 extraneous bytes before marker 0xd9\n",
      "Corrupt JPEG data: premature end of data segment\n",
      "Corrupt JPEG data: premature end of data segment\n"
     ]
    },
    {
     "name": "stdout",
     "output_type": "stream",
     "text": [
      "172/172 [==============================] - ETA: 0s - loss: 0.4408 - accuracy: 0.8762"
     ]
    },
    {
     "name": "stderr",
     "output_type": "stream",
     "text": [
      "Corrupt JPEG data: 445 extraneous bytes before marker 0xd9\n",
      "Corrupt JPEG data: premature end of data segment\n",
      "Corrupt JPEG data: premature end of data segment\n"
     ]
    },
    {
     "name": "stdout",
     "output_type": "stream",
     "text": [
      "172/172 [==============================] - 467s 1s/step - loss: 0.4408 - accuracy: 0.8762 - val_loss: 0.1426 - val_accuracy: 0.9688\n",
      "Epoch 16/20\n"
     ]
    },
    {
     "name": "stderr",
     "output_type": "stream",
     "text": [
      "Corrupt JPEG data: 445 extraneous bytes before marker 0xd9\n",
      "Corrupt JPEG data: premature end of data segment\n",
      "Corrupt JPEG data: premature end of data segment\n"
     ]
    },
    {
     "name": "stdout",
     "output_type": "stream",
     "text": [
      "172/172 [==============================] - ETA: 0s - loss: 0.4144 - accuracy: 0.8818"
     ]
    },
    {
     "name": "stderr",
     "output_type": "stream",
     "text": [
      "Corrupt JPEG data: 445 extraneous bytes before marker 0xd9\n",
      "Corrupt JPEG data: premature end of data segment\n",
      "Corrupt JPEG data: premature end of data segment\n"
     ]
    },
    {
     "name": "stdout",
     "output_type": "stream",
     "text": [
      "172/172 [==============================] - 467s 1s/step - loss: 0.4144 - accuracy: 0.8818 - val_loss: 0.1489 - val_accuracy: 1.0000\n",
      "Epoch 17/20\n"
     ]
    },
    {
     "name": "stderr",
     "output_type": "stream",
     "text": [
      "Corrupt JPEG data: 445 extraneous bytes before marker 0xd9\n",
      "Corrupt JPEG data: premature end of data segment\n",
      "Corrupt JPEG data: premature end of data segment\n"
     ]
    },
    {
     "name": "stdout",
     "output_type": "stream",
     "text": [
      "172/172 [==============================] - ETA: 0s - loss: 0.3924 - accuracy: 0.8880"
     ]
    },
    {
     "name": "stderr",
     "output_type": "stream",
     "text": [
      "Corrupt JPEG data: 445 extraneous bytes before marker 0xd9\n",
      "Corrupt JPEG data: premature end of data segment\n",
      "Corrupt JPEG data: premature end of data segment\n"
     ]
    },
    {
     "name": "stdout",
     "output_type": "stream",
     "text": [
      "172/172 [==============================] - 460s 1s/step - loss: 0.3924 - accuracy: 0.8880 - val_loss: 0.0580 - val_accuracy: 1.0000\n",
      "Epoch 18/20\n"
     ]
    },
    {
     "name": "stderr",
     "output_type": "stream",
     "text": [
      "Corrupt JPEG data: 445 extraneous bytes before marker 0xd9\n",
      "Corrupt JPEG data: premature end of data segment\n",
      "Corrupt JPEG data: premature end of data segment\n"
     ]
    },
    {
     "name": "stdout",
     "output_type": "stream",
     "text": [
      "172/172 [==============================] - ETA: 0s - loss: 0.3708 - accuracy: 0.8948"
     ]
    },
    {
     "name": "stderr",
     "output_type": "stream",
     "text": [
      "Corrupt JPEG data: 445 extraneous bytes before marker 0xd9\n",
      "Corrupt JPEG data: premature end of data segment\n",
      "Corrupt JPEG data: premature end of data segment\n"
     ]
    },
    {
     "name": "stdout",
     "output_type": "stream",
     "text": [
      "172/172 [==============================] - 465s 1s/step - loss: 0.3708 - accuracy: 0.8948 - val_loss: 0.0849 - val_accuracy: 1.0000\n",
      "Epoch 19/20\n"
     ]
    },
    {
     "name": "stderr",
     "output_type": "stream",
     "text": [
      "Corrupt JPEG data: 445 extraneous bytes before marker 0xd9\n",
      "Corrupt JPEG data: premature end of data segment\n",
      "Corrupt JPEG data: premature end of data segment\n"
     ]
    },
    {
     "name": "stdout",
     "output_type": "stream",
     "text": [
      "172/172 [==============================] - ETA: 0s - loss: 0.3708 - accuracy: 0.8902"
     ]
    },
    {
     "name": "stderr",
     "output_type": "stream",
     "text": [
      "Corrupt JPEG data: 445 extraneous bytes before marker 0xd9\n",
      "Corrupt JPEG data: premature end of data segment\n",
      "Corrupt JPEG data: premature end of data segment\n"
     ]
    },
    {
     "name": "stdout",
     "output_type": "stream",
     "text": [
      "172/172 [==============================] - 463s 1s/step - loss: 0.3708 - accuracy: 0.8902 - val_loss: 0.0562 - val_accuracy: 1.0000\n",
      "Epoch 20/20\n"
     ]
    },
    {
     "name": "stderr",
     "output_type": "stream",
     "text": [
      "Corrupt JPEG data: 445 extraneous bytes before marker 0xd9\n",
      "Corrupt JPEG data: premature end of data segment\n",
      "Corrupt JPEG data: premature end of data segment\n"
     ]
    },
    {
     "name": "stdout",
     "output_type": "stream",
     "text": [
      "172/172 [==============================] - ETA: 0s - loss: 0.3229 - accuracy: 0.9048"
     ]
    },
    {
     "name": "stderr",
     "output_type": "stream",
     "text": [
      "Corrupt JPEG data: 445 extraneous bytes before marker 0xd9\n",
      "Corrupt JPEG data: premature end of data segment\n",
      "Corrupt JPEG data: premature end of data segment\n"
     ]
    },
    {
     "name": "stdout",
     "output_type": "stream",
     "text": [
      "172/172 [==============================] - 469s 1s/step - loss: 0.3229 - accuracy: 0.9048 - val_loss: 0.0873 - val_accuracy: 0.9688\n"
     ]
    }
   ],
   "source": [
    "base_model.trainable = False\n",
    "\n",
    "inputs = tf.keras.Input(shape=(299, 299, 3))\n",
    "x = resize_and_rescale(inputs)\n",
    "x = base_model(x, training=False)\n",
    "x = tf.keras.layers.Dense(128, activation='relu')(x)\n",
    "x = tf.keras.layers.Dropout(0.2)(x)\n",
    "outputs = tf.keras.layers.Dense(len(labels), activation='softmax')(x)\n",
    "model = tf.keras.Model(inputs, outputs)\n",
    "\n",
    "model.compile(\n",
    "    optimizer='adam',\n",
    "    loss='sparse_categorical_crossentropy',\n",
    "    metrics=['accuracy']\n",
    ")\n",
    "\n",
    "model.summary()\n",
    "\n",
    "history = model.fit(\n",
    "    train_ds,\n",
    "    validation_data=val_ds,\n",
    "    batch_size=32,\n",
    "    epochs=20\n",
    ")"
   ]
  },
  {
   "cell_type": "code",
   "execution_count": 10,
   "id": "d9e4d8a3",
   "metadata": {
    "execution": {
     "iopub.execute_input": "2023-10-15T08:39:13.839706Z",
     "iopub.status.busy": "2023-10-15T08:39:13.839373Z",
     "iopub.status.idle": "2023-10-15T08:43:06.488195Z",
     "shell.execute_reply": "2023-10-15T08:43:06.487293Z"
    },
    "papermill": {
     "duration": 232.866522,
     "end_time": "2023-10-15T08:43:06.489910",
     "exception": false,
     "start_time": "2023-10-15T08:39:13.623388",
     "status": "completed"
    },
    "tags": []
   },
   "outputs": [
    {
     "name": "stderr",
     "output_type": "stream",
     "text": [
      "Corrupt JPEG data: 445 extraneous bytes before marker 0xd9\n",
      "Corrupt JPEG data: premature end of data segment\n",
      "Corrupt JPEG data: premature end of data segment\n"
     ]
    },
    {
     "name": "stdout",
     "output_type": "stream",
     "text": [
      "43/43 [==============================] - 233s 76ms/step - loss: 0.1245 - accuracy: 0.9775\n"
     ]
    },
    {
     "data": {
      "text/plain": [
       "[0.12449967861175537, 0.9774709343910217]"
      ]
     },
     "execution_count": 10,
     "metadata": {},
     "output_type": "execute_result"
    }
   ],
   "source": [
    "model.evaluate(test_ds)"
   ]
  },
  {
   "cell_type": "code",
   "execution_count": 11,
   "id": "90417667",
   "metadata": {
    "execution": {
     "iopub.execute_input": "2023-10-15T08:43:06.803977Z",
     "iopub.status.busy": "2023-10-15T08:43:06.803638Z",
     "iopub.status.idle": "2023-10-15T08:43:08.839423Z",
     "shell.execute_reply": "2023-10-15T08:43:08.838404Z"
    },
    "papermill": {
     "duration": 2.194519,
     "end_time": "2023-10-15T08:43:08.841122",
     "exception": false,
     "start_time": "2023-10-15T08:43:06.646603",
     "status": "completed"
    },
    "tags": []
   },
   "outputs": [
    {
     "name": "stdout",
     "output_type": "stream",
     "text": [
      "1/1 [==============================] - 2s 2s/step\n",
      "This image most likely belongs to Aloevera with a 65.56 percent confidence.\n"
     ]
    }
   ],
   "source": [
    "# predict with new images\n",
    "import numpy as np\n",
    "\n",
    "img = tf.keras.preprocessing.image.load_img(\n",
    "    '/kaggle/input/test-medicinal-leaves/alo.jpg', target_size=(299, 299)\n",
    ")\n",
    "img_array = tf.keras.preprocessing.image.img_to_array(img)\n",
    "img_array = tf.expand_dims(img_array, 0)  # Create a batch\n",
    "\n",
    "\n",
    "predictions = model.predict(img_array)\n",
    "score = tf.nn.sigmoid(predictions[0])\n",
    "print(\n",
    "    \"This image most likely belongs to {} with a {:.2f} percent confidence.\"\n",
    "    .format(labels[np.argmax(score)], 100 * np.max(score))\n",
    ")"
   ]
  },
  {
   "cell_type": "code",
   "execution_count": 12,
   "id": "49490603",
   "metadata": {
    "execution": {
     "iopub.execute_input": "2023-10-15T08:43:09.235350Z",
     "iopub.status.busy": "2023-10-15T08:43:09.234983Z",
     "iopub.status.idle": "2023-10-15T08:43:09.336964Z",
     "shell.execute_reply": "2023-10-15T08:43:09.336079Z"
    },
    "papermill": {
     "duration": 0.323125,
     "end_time": "2023-10-15T08:43:09.338771",
     "exception": false,
     "start_time": "2023-10-15T08:43:09.015646",
     "status": "completed"
    },
    "tags": []
   },
   "outputs": [
    {
     "name": "stdout",
     "output_type": "stream",
     "text": [
      "1/1 [==============================] - 0s 27ms/step\n",
      "This image most likely belongs to Bamboo with a 69.30 percent confidence.\n"
     ]
    }
   ],
   "source": [
    "# predict with new images\n",
    "import numpy as np\n",
    "\n",
    "img = tf.keras.preprocessing.image.load_img(\n",
    "    '/kaggle/input/test-medicinal-leaves/bamboo.jpeg', target_size=(299, 299)\n",
    ")\n",
    "img_array = tf.keras.preprocessing.image.img_to_array(img)\n",
    "img_array = tf.expand_dims(img_array, 0)  # Create a batch\n",
    "predictions = model.predict(img_array)\n",
    "score = tf.nn.sigmoid(predictions[0])\n",
    "print(\n",
    "    \"This image most likely belongs to {} with a {:.2f} percent confidence.\"\n",
    "    .format(labels[np.argmax(score)], 100 * np.max(score))\n",
    ")"
   ]
  },
  {
   "cell_type": "code",
   "execution_count": 13,
   "id": "f67f924a",
   "metadata": {
    "execution": {
     "iopub.execute_input": "2023-10-15T08:43:09.685943Z",
     "iopub.status.busy": "2023-10-15T08:43:09.685517Z",
     "iopub.status.idle": "2023-10-15T08:43:09.792056Z",
     "shell.execute_reply": "2023-10-15T08:43:09.790997Z"
    },
    "papermill": {
     "duration": 0.294178,
     "end_time": "2023-10-15T08:43:09.794022",
     "exception": false,
     "start_time": "2023-10-15T08:43:09.499844",
     "status": "completed"
    },
    "tags": []
   },
   "outputs": [
    {
     "name": "stdout",
     "output_type": "stream",
     "text": [
      "1/1 [==============================] - 0s 27ms/step\n",
      "This image most likely belongs to Betel with a 65.01 percent confidence.\n"
     ]
    }
   ],
   "source": [
    "import numpy as np\n",
    "\n",
    "img = tf.keras.preprocessing.image.load_img(\n",
    "    '/kaggle/input/test-medicinal-leaves/betel-leaf-1024x1024.jpg', target_size=(299, 299)\n",
    ")\n",
    "img_array = tf.keras.preprocessing.image.img_to_array(img)\n",
    "img_array = tf.expand_dims(img_array, 0)  # Create a batch\n",
    "predictions = model.predict(img_array)\n",
    "score = tf.nn.sigmoid(predictions[0])\n",
    "print(\n",
    "    \"This image most likely belongs to {} with a {:.2f} percent confidence.\"\n",
    "    .format(labels[np.argmax(score)], 100 * np.max(score))\n",
    ")"
   ]
  },
  {
   "cell_type": "code",
   "execution_count": 14,
   "id": "98bea7b3",
   "metadata": {
    "execution": {
     "iopub.execute_input": "2023-10-15T08:43:10.136692Z",
     "iopub.status.busy": "2023-10-15T08:43:10.136363Z",
     "iopub.status.idle": "2023-10-15T08:43:10.216715Z",
     "shell.execute_reply": "2023-10-15T08:43:10.215741Z"
    },
    "papermill": {
     "duration": 0.2454,
     "end_time": "2023-10-15T08:43:10.218561",
     "exception": false,
     "start_time": "2023-10-15T08:43:09.973161",
     "status": "completed"
    },
    "tags": []
   },
   "outputs": [
    {
     "name": "stdout",
     "output_type": "stream",
     "text": [
      "1/1 [==============================] - 0s 26ms/step\n",
      "This image most likely belongs to Bamboo with a 69.30 percent confidence.\n"
     ]
    }
   ],
   "source": [
    "import numpy as np\n",
    "\n",
    "img = tf.keras.preprocessing.image.load_img(\n",
    "    '/kaggle/input/test-medicinal-leaves/bamboo.jpeg', target_size=(299, 299)\n",
    ")\n",
    "img_array = tf.keras.preprocessing.image.img_to_array(img)\n",
    "img_array = tf.expand_dims(img_array, 0)  # Create a batch\n",
    "predictions = model.predict(img_array)\n",
    "score = tf.nn.sigmoid(predictions[0])\n",
    "print(\n",
    "    \"This image most likely belongs to {} with a {:.2f} percent confidence.\"\n",
    "    .format(labels[np.argmax(score)], 100 * np.max(score))\n",
    ")"
   ]
  },
  {
   "cell_type": "code",
   "execution_count": 15,
   "id": "47f84220",
   "metadata": {
    "execution": {
     "iopub.execute_input": "2023-10-15T08:43:10.599363Z",
     "iopub.status.busy": "2023-10-15T08:43:10.599007Z",
     "iopub.status.idle": "2023-10-15T08:43:10.845022Z",
     "shell.execute_reply": "2023-10-15T08:43:10.843907Z"
    },
    "papermill": {
     "duration": 0.405833,
     "end_time": "2023-10-15T08:43:10.846897",
     "exception": false,
     "start_time": "2023-10-15T08:43:10.441064",
     "status": "completed"
    },
    "tags": []
   },
   "outputs": [
    {
     "name": "stdout",
     "output_type": "stream",
     "text": [
      "1/1 [==============================] - 0s 25ms/step\n",
      "This image most likely belongs to Doddpathre with a 69.35 percent confidence.\n"
     ]
    }
   ],
   "source": [
    "import numpy as np\n",
    "\n",
    "img = tf.keras.preprocessing.image.load_img(\n",
    "    '/kaggle/input/test-medicinal-leaves/doddapatre.jpg', target_size=(299, 299)\n",
    ")\n",
    "img_array = tf.keras.preprocessing.image.img_to_array(img)\n",
    "img_array = tf.expand_dims(img_array, 0)  # Create a batch\n",
    "predictions = model.predict(img_array)\n",
    "score = tf.nn.sigmoid(predictions[0])\n",
    "print(\n",
    "    \"This image most likely belongs to {} with a {:.2f} percent confidence.\"\n",
    "    .format(labels[np.argmax(score)], 100 * np.max(score))\n",
    ")"
   ]
  },
  {
   "cell_type": "code",
   "execution_count": 16,
   "id": "4288fc6e",
   "metadata": {
    "execution": {
     "iopub.execute_input": "2023-10-15T08:43:11.170354Z",
     "iopub.status.busy": "2023-10-15T08:43:11.170006Z",
     "iopub.status.idle": "2023-10-15T08:43:11.251981Z",
     "shell.execute_reply": "2023-10-15T08:43:11.251124Z"
    },
    "papermill": {
     "duration": 0.24065,
     "end_time": "2023-10-15T08:43:11.253655",
     "exception": false,
     "start_time": "2023-10-15T08:43:11.013005",
     "status": "completed"
    },
    "tags": []
   },
   "outputs": [
    {
     "name": "stdout",
     "output_type": "stream",
     "text": [
      "1/1 [==============================] - 0s 25ms/step\n",
      "This image most likely belongs to Tulsi with a 64.03 percent confidence.\n"
     ]
    }
   ],
   "source": [
    "import numpy as np\n",
    "\n",
    "img = tf.keras.preprocessing.image.load_img(\n",
    "    '/kaggle/input/test-medicinal-leaves/tulsi-leaves-t-cut-500x500.jpg.webp', target_size=(299, 299)\n",
    ")\n",
    "img_array = tf.keras.preprocessing.image.img_to_array(img)\n",
    "img_array = tf.expand_dims(img_array, 0)  # Create a batch\n",
    "predictions = model.predict(img_array)\n",
    "score = tf.nn.sigmoid(predictions[0])\n",
    "print(\n",
    "    \"This image most likely belongs to {} with a {:.2f} percent confidence.\"\n",
    "    .format(labels[np.argmax(score)], 100 * np.max(score))\n",
    ")"
   ]
  },
  {
   "cell_type": "code",
   "execution_count": 17,
   "id": "1daa9cc2",
   "metadata": {
    "execution": {
     "iopub.execute_input": "2023-10-15T08:43:11.573531Z",
     "iopub.status.busy": "2023-10-15T08:43:11.572696Z",
     "iopub.status.idle": "2023-10-15T08:43:11.863872Z",
     "shell.execute_reply": "2023-10-15T08:43:11.862989Z"
    },
    "papermill": {
     "duration": 0.45344,
     "end_time": "2023-10-15T08:43:11.865644",
     "exception": false,
     "start_time": "2023-10-15T08:43:11.412204",
     "status": "completed"
    },
    "tags": []
   },
   "outputs": [
    {
     "data": {
      "image/png": "[encoded data removed]",
      "text/plain": [
       "<Figure size 640x480 with 1 Axes>"
      ]
     },
     "metadata": {},
     "output_type": "display_data"
    }
   ],
   "source": [
    "# plot accuracy and loss\n",
    "import matplotlib.pyplot as plt\n",
    "\n",
    "plt.plot(history.history['accuracy'])\n",
    "plt.plot(history.history['val_accuracy'])\n",
    "\n",
    "plt.title('model accuracy')\n",
    "plt.ylabel('accuracy')\n",
    "plt.xlabel('epoch')\n",
    "plt.legend(['train', 'val'], loc='upper left')\n",
    "plt.show()\n"
   ]
  },
  {
   "cell_type": "code",
   "execution_count": 18,
   "id": "5edbc9c2",
   "metadata": {
    "execution": {
     "iopub.execute_input": "2023-10-15T08:43:12.182368Z",
     "iopub.status.busy": "2023-10-15T08:43:12.182030Z",
     "iopub.status.idle": "2023-10-15T08:43:12.723072Z",
     "shell.execute_reply": "2023-10-15T08:43:12.722118Z"
    },
    "papermill": {
     "duration": 0.699119,
     "end_time": "2023-10-15T08:43:12.725200",
     "exception": false,
     "start_time": "2023-10-15T08:43:12.026081",
     "status": "completed"
    },
    "tags": []
   },
   "outputs": [],
   "source": [
    "model.save('model_avg_20_inception.h5')"
   ]
  },
  {
   "cell_type": "code",
   "execution_count": null,
   "id": "ccb99f18",
   "metadata": {
    "papermill": {
     "duration": 0.159917,
     "end_time": "2023-10-15T08:43:13.046426",
     "exception": false,
     "start_time": "2023-10-15T08:43:12.886509",
     "status": "completed"
    },
    "tags": []
   },
   "outputs": [],
   "source": []
  }
 ],
 "metadata": {
  "kernelspec": {
   "display_name": "Python 3 (ipykernel)",
   "language": "python",
   "name": "python3"
  },
  "language_info": {
   "codemirror_mode": {
    "name": "ipython",
    "version": 3
   },
   "file_extension": ".py",
   "mimetype": "text/x-python",
   "name": "python",
   "nbconvert_exporter": "python",
   "pygments_lexer": "ipython3",
   "version": "3.11.7"
  },
  "papermill": {
   "default_parameters": {},
   "duration": 9645.041417,
   "end_time": "2023-10-15T08:43:16.986293",
   "environment_variables": {},
   "exception": null,
   "input_path": "__notebook__.ipynb",
   "output_path": "__notebook__.ipynb",
   "parameters": {},
   "start_time": "2023-10-15T06:02:31.944876",
   "version": "2.4.0"
  }
 },
 "nbformat": 4,
 "nbformat_minor": 5
}
